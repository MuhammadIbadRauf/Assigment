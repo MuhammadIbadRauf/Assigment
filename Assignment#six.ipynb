{
 "cells": [
  {
   "cell_type": "markdown",
   "metadata": {},
   "source": [
    "### OBJECT ORIENTED PROGRAMMING:\n",
    "#### Object-oriented programming (OOP) refers to a type of computer programming (software design) in which programmers define not only the data type of a data structure, but also the types of operations (functions) that can be applied to the data structure.\n"
   ]
  },
  {
   "cell_type": "markdown",
   "metadata": {},
   "source": [
    "### BENEFITS OF OOP:\n",
    "#### It helps to reduce the complexity and also improves the maintainability of the system. When combined with the concepts of the Encapsulation and Polymorphism, Abstraction gives more power to the Object oriented programming languages."
   ]
  },
  {
   "cell_type": "markdown",
   "metadata": {},
   "source": [
    "### DIFFERENCE BETWEEN METHODS AND FUNCTIONS:\n",
    "#### function is a piece of code that is called by name. It can be passed data to operate on (i.e. the parameters) and can optionally return data (the return value). All data that is passed to a function is explicitly passed. A method is a piece of code that is called by a name that is associated with an object."
   ]
  },
  {
   "cell_type": "markdown",
   "metadata": {},
   "source": [
    "### CLASS:\n",
    "#### It is a template or blue print about the capability of what object can do.\n",
    "### OBJECT:\n",
    "#### An object is an instantiation of a class.When class is defined, only the description for the object is defined. Therefore no memory or storage is allocated.\n",
    "### ATTRIBUTE:\n",
    "#### Attributes are the properties of objects.\n",
    "### BEHAVIOUR:\n",
    "#### Behavior  which represents an independent scenario that the system should and shouldn't follow."
   ]
  },
  {
   "cell_type": "code",
   "execution_count": 50,
   "metadata": {},
   "outputs": [
    {
     "name": "stdout",
     "output_type": "stream",
     "text": [
      "\tCAR_ 1:\n",
      "\n",
      "Name: Maruti Suzuki Dzire\n",
      "Fuel_Type: Diesel\n",
      "Colour: Black\n",
      "Price: Rs. 5.5–6 Lakh\n",
      "Engine: 1248 cc\n",
      "\n",
      "\tCAR_ 2:\n",
      "\n",
      "Name: Maruti Suzuki Swift\n",
      "Fuel_Type: Petrol\n",
      "Colour: White\n",
      "Price: Rs. 4.80–8.5 lakh\n",
      "Engine: 1197 cc\n",
      "\n",
      "\tCAR_ 3:\n",
      "\n",
      "Name: Maruti Suzuki Baleno\n",
      "Fuel_Type: Petrol\n",
      "Colour: Red\n",
      "Price: Rs. 5.5–7 Lakh\n",
      "Engine: 1197 cc\n",
      "\n",
      "\tCAR_ 4:\n",
      "\n",
      "Name: Maruti Suzuki Vitara Brezza\n",
      "Fuel_Type:  Diesel\n",
      "Colour: Yellow\n",
      "Price: Rs.7 Lakh Approx\n",
      "Engine: 1248 cc\n",
      "\n",
      "\tCAR_ 5:\n",
      "\n",
      "Name: Hyundai Venue\n",
      "Fuel_Type: Hyundai Venue\n",
      "Colour: Grey\n",
      "Price: Rs. 7.46–12 Lakh\n",
      "Engine: 1197 cc\n"
     ]
    }
   ],
   "source": [
    "class Car():\n",
    "    def __init__(self,name,fuel_type,colour):\n",
    "        self.name=name\n",
    "        self.fuel_type=fuel_type\n",
    "        self.colour=colour\n",
    "        self.price='Rs. 5.5–6 Lakh'\n",
    "        self.engine='1248 cc'\n",
    "car1 = Car('Maruti Suzuki Dzire','Diesel','Black')\n",
    "print(\"\\tCAR_ 1:\\n\\nName: {}\\nFuel_Type: {}\\nColour: {}\\nPrice: {}\\nEngine: {}\".format(car1.name,car1.fuel_type,car1.colour,car1.price,car1.engine))\n",
    "\n",
    "car2= Car('Maruti Suzuki Swift','Petrol','White')\n",
    "car2.price='Rs. 4.80–8.5 lakh'\n",
    "car2.engine='1197 cc'\n",
    "print(\"\\n\\tCAR_ 2:\\n\\nName: {}\\nFuel_Type: {}\\nColour: {}\\nPrice: {}\\nEngine: {}\".format(car2.name,car2.fuel_type,car2.colour,car2.price,car2.engine))\n",
    "\n",
    "car3= Car('Maruti Suzuki Baleno','Petrol','Red')\n",
    "car3.price='Rs. 5.5–7 Lakh'\n",
    "car3.engine='1197 cc'\n",
    "print(\"\\n\\tCAR_ 3:\\n\\nName: {}\\nFuel_Type: {}\\nColour: {}\\nPrice: {}\\nEngine: {}\".format(car3.name,car3.fuel_type,car3.colour,car3.price,car3.engine))\n",
    "\n",
    "car4= Car('Maruti Suzuki Vitara Brezza',' Diesel','Yellow')\n",
    "car4.price='Rs.7 Lakh Approx'\n",
    "car4.engine='1248 cc'\n",
    "print(\"\\n\\tCAR_ 4:\\n\\nName: {}\\nFuel_Type: {}\\nColour: {}\\nPrice: {}\\nEngine: {}\".format(car4.name,car4.fuel_type,car4.colour,car4.price,car4.engine))\n",
    "\n",
    "car5= Car('Hyundai Venue','Hyundai Venue','Grey')\n",
    "car5.price='Rs. 7.46–12 Lakh'\n",
    "car5.engine='1197 cc'\n",
    "print(\"\\n\\tCAR_ 5:\\n\\nName: {}\\nFuel_Type: {}\\nColour: {}\\nPrice: {}\\nEngine: {}\".format(car5.name,car5.fuel_type,car5.colour,car5.price,car5.engine))\n"
   ]
  },
  {
   "cell_type": "code",
   "execution_count": null,
   "metadata": {},
   "outputs": [],
   "source": []
  },
  {
   "cell_type": "code",
   "execution_count": null,
   "metadata": {},
   "outputs": [],
   "source": []
  }
 ],
 "metadata": {
  "kernelspec": {
   "display_name": "Python 3",
   "language": "python",
   "name": "python3"
  },
  "language_info": {
   "codemirror_mode": {
    "name": "ipython",
    "version": 3
   },
   "file_extension": ".py",
   "mimetype": "text/x-python",
   "name": "python",
   "nbconvert_exporter": "python",
   "pygments_lexer": "ipython3",
   "version": "3.7.4"
  }
 },
 "nbformat": 4,
 "nbformat_minor": 2
}
