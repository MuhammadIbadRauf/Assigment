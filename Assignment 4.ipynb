{
 "cells": [
  {
   "cell_type": "code",
   "execution_count": 5,
   "metadata": {},
   "outputs": [
    {
     "name": "stdout",
     "output_type": "stream",
     "text": [
      "\t\t\t\t {'First Name': 'M.Ibad', 'Last Name': 'M.Ibad Rauf Kz', 'Age': 19, 'City': 'Karachi'}\n",
      "With Qualification: {'First Name': 'M.Ibad', 'Last Name': 'M.Ibad Rauf Kz', 'Age': 19, 'City': 'Karachi', 'Qualification': '  B.E in Electronics'}\n",
      "Update Qualification: {'First Name': 'M.Ibad', 'Last Name': 'M.Ibad Rauf Kz', 'Age': 19, 'City': 'Karachi', 'Qualification': ' Master In Electronics'}\n",
      "Delete Qualification: {'First Name': 'M.Ibad', 'Last Name': 'M.Ibad Rauf Kz', 'Age': 19, 'City': 'Karachi'}\n"
     ]
    }
   ],
   "source": [
    "Biodata={\n",
    "    \"First Name\": \"M.Ibad\",\n",
    "    \"Last Name\" : \"M.Ibad Rauf Kz\",\n",
    "    \"Age\"       :  19,\n",
    "    \"City\"      :  \"Karachi\",\n",
    "}\n",
    "print(\"\\t\\t\\t\\t\", Biodata)\n",
    "Biodata[\"Qualification\"] = \"  B.E in Electronics\"\n",
    "print(\"With Qualification:\", Biodata)\n",
    "Biodata[\"Qualification\"]=\" Master In Electronics\"\n",
    "print(\"Update Qualification:\", Biodata)\n",
    "del Biodata[\"Qualification\"]\n",
    "print(\"Delete Qualification:\", Biodata)"
   ]
  },
  {
   "cell_type": "code",
   "execution_count": 6,
   "metadata": {},
   "outputs": [
    {
     "name": "stdout",
     "output_type": "stream",
     "text": [
      "\n",
      "KARACHI:  {'Country': 'Pakistan', 'Population': '14.9 million in the 2017 census.', 'Fact': ' Karachi is the fifth-most-populous city proper in the World'} \n",
      "BEIJING:  {'Country': 'China', 'Population': ' 19,612,368 in 2010 census', 'Fact': 'The Ancient Chinese Architecture like The Great Wall of China etc.'} \n",
      "OWATTA:  {'Country': 'Canada', 'Population': '994,837 (2017)', 'Fact': 'English and French are widely spoken'}\n"
     ]
    }
   ],
   "source": [
    "Cities={\n",
    "\"Karachi\":{\n",
    "        \"Country\":\"Pakistan\",\n",
    "        \"Population\":\"14.9 million in the 2017 census.\",\n",
    "        \"Fact\":\" Karachi is the fifth-most-populous city proper in the World\",\n",
    "    },\n",
    "\"Beijing\":{\n",
    "      \"Country\":\"China\",\n",
    "      \"Population\":\" 19,612,368 in 2010 census\",\n",
    "       \"Fact\":\"The Ancient Chinese Architecture like The Great Wall of China etc.\",\n",
    "    },\n",
    "\"Owatta\":{\n",
    "        \"Country\":\"Canada\",\n",
    "        \"Population\":\"994,837 (2017)\",\n",
    "        \"Fact\":\"English and French are widely spoken\",\n",
    "    },\n",
    "    } \n",
    "print(\"\\nKARACHI: \",Cities[\"Karachi\"],\"\\nBEIJING: \",Cities[\"Beijing\"],\"\\nOWATTA: \",Cities[\"Owatta\"])"
   ]
  },
  {
   "cell_type": "code",
   "execution_count": 7,
   "metadata": {},
   "outputs": [
    {
     "name": "stdout",
     "output_type": "stream",
     "text": [
      "Welcome To Our Movie Zone:)\n",
      "Enter Your Age: 20\n",
      "the ticket is 15$\n"
     ]
    }
   ],
   "source": [
    "print(\"Welcome To Our Movie Zone:)\")\n",
    "Age=int(input(\"Plz Enter Your Age: \"));\n",
    "if Age==3:\n",
    "    print(\"Ticket is free for you!\");\n",
    "\n",
    "elif Age>=3 and Age<=12:\n",
    "    print(\"The ticket is 10$\");\n",
    "\n",
    "elif Age>12:\n",
    "    print(\"the ticket is 15$\");"
   ]
  },
  {
   "cell_type": "code",
   "execution_count": 4,
   "metadata": {},
   "outputs": [
    {
     "name": "stdout",
     "output_type": "stream",
     "text": [
      "One of my favorite book is Alice in Wonderland\n"
     ]
    }
   ],
   "source": [
    "def Favourite_Book(title=\"One of my favorite book is Alice in Wonderland\"):\n",
    "    Alice=title\n",
    "    return Alice\n",
    "main=Favourite_Book()\n",
    "print(main)\n"
   ]
  },
  {
   "cell_type": "code",
   "execution_count": 21,
   "metadata": {},
   "outputs": [
    {
     "name": "stdout",
     "output_type": "stream",
     "text": [
      "Guess the number between 1 and 30 (You have 3 chances)\n",
      "Take a guess.\n",
      "11\n",
      "Wrong! You guessed too high\n",
      "Take a guess.\n",
      "12\n",
      "Wrong! You guessed too high\n",
      "Take a guess.\n",
      "14\n",
      "Wrong! You guessed too high\n",
      "The correct number is 8\n"
     ]
    }
   ],
   "source": [
    "import random\n",
    "rand = 0\n",
    "number = random.randrange(1,30)\n",
    "print(\"Guess the number between 1 and 30 (You have 3 chances)\")\n",
    "while rand<3:\n",
    "    print(\"Take a guess.\")\n",
    "    guess= int(input())\n",
    "    #guess=int(guess)\n",
    "    rand=rand+1\n",
    "    if (guess > number):\n",
    "               print(\"Wrong! You guessed too high\")\n",
    "    if (guess < number):\n",
    "               print (\"Wrong! You guessed too low\")\n",
    "    if (guess == number):\n",
    "              break\n",
    "if guess==number:\n",
    "    rand=str(guesstaken)\n",
    "    print(\"You Guessed the number in \"+rand+\" guess!\")\n",
    "if guess!=number:\n",
    "    number=str(number)\n",
    "    print(\"The correct number is \"+number)"
   ]
  },
  {
   "cell_type": "code",
   "execution_count": null,
   "metadata": {},
   "outputs": [],
   "source": []
  },
  {
   "cell_type": "code",
   "execution_count": null,
   "metadata": {},
   "outputs": [],
   "source": []
  },
  {
   "cell_type": "code",
   "execution_count": null,
   "metadata": {},
   "outputs": [],
   "source": []
  }
 ],
 "metadata": {
  "kernelspec": {
   "display_name": "Python 3",
   "language": "python",
   "name": "python3"
  },
  "language_info": {
   "codemirror_mode": {
    "name": "ipython",
    "version": 3
   },
   "file_extension": ".py",
   "mimetype": "text/x-python",
   "name": "python",
   "nbconvert_exporter": "python",
   "pygments_lexer": "ipython3",
   "version": "3.7.4"
  }
 },
 "nbformat": 4,
 "nbformat_minor": 2
}
