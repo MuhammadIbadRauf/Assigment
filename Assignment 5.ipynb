{
 "cells": [
  {
   "cell_type": "code",
   "execution_count": 8,
   "metadata": {},
   "outputs": [
    {
     "name": "stdout",
     "output_type": "stream",
     "text": [
      "Enter your number for factorial: 4\n",
      "Factorial of your number is  24\n"
     ]
    }
   ],
   "source": [
    "def factorial(x):\n",
    "    if x == 0:\n",
    "        return 1\n",
    "    else:\n",
    "        return x * factorial(x-1)\n",
    "number=int(input(\"Enter your number for factorial: \"))\n",
    "print(\"Factorial of your number is \",factorial(number))\n"
   ]
  },
  {
   "cell_type": "code",
   "execution_count": 23,
   "metadata": {},
   "outputs": [
    {
     "name": "stdout",
     "output_type": "stream",
     "text": [
      "No. of Upper case characters: 5 \n",
      "No. of Lower case characters : 10\n"
     ]
    }
   ],
   "source": [
    "def function(s):      \n",
    "    upper = sum(1 for i in s if i.isupper())\n",
    "    lower = sum(1 for i in s if i.islower())\n",
    "    print( \"No. of Upper case characters: %s \\nNo. of Lower case characters : %s\"%(upper,lower))\n",
    "\n",
    "function(\"Hi! I am Ibad Rauf Kz.\")"
   ]
  },
  {
   "cell_type": "code",
   "execution_count": 27,
   "metadata": {},
   "outputs": [
    {
     "name": "stdout",
     "output_type": "stream",
     "text": [
      "2\n",
      "4\n",
      "6\n",
      "6\n"
     ]
    }
   ],
   "source": [
    "lisT=[2,4,5,6,6,45]\n",
    "def function():\n",
    "    for a in lisT:\n",
    "        if a%2==0:\n",
    "            print(a)\n",
    "function()"
   ]
  },
  {
   "cell_type": "code",
   "execution_count": 39,
   "metadata": {},
   "outputs": [
    {
     "name": "stdout",
     "output_type": "stream",
     "text": [
      "Yes\n"
     ]
    }
   ],
   "source": [
    "def reverse(s): \n",
    "    return s[::-1] \n",
    "  \n",
    "def isPalindrome(s): \n",
    "    # Calling reverse function \n",
    "    rev = reverse(s) \n",
    "  \n",
    "    # Checking if both string are equal or not \n",
    "    if (s == rev): \n",
    "        return True\n",
    "    return False\n",
    "\n",
    "string = \"malayalam\"\n",
    "ans= isPalindrome(string) \n",
    "  \n",
    "if ans == 1: \n",
    "    print(\"Yes\") \n",
    "else: \n",
    "    print(\"No\") "
   ]
  },
  {
   "cell_type": "code",
   "execution_count": 49,
   "metadata": {},
   "outputs": [
    {
     "name": "stdout",
     "output_type": "stream",
     "text": [
      "8 is not prime number!\n"
     ]
    }
   ],
   "source": [
    "def test_prime(n):\n",
    "    if (n>1):\n",
    "        for x in range(2,n):\n",
    "            if(n % x==0):\n",
    "                print(n,\"is not prime number!\")\n",
    "                break\n",
    "        else:\n",
    "            print(n,\"is prime number!\")\n",
    "test_prime(8)"
   ]
  },
  {
   "cell_type": "code",
   "execution_count": 54,
   "metadata": {},
   "outputs": [
    {
     "name": "stdout",
     "output_type": "stream",
     "text": [
      "\n",
      "Enter the item you bought from market \n",
      "If you leave enter'quit': milk\n",
      "\n",
      "Enter the item you bought from market \n",
      "If you leave enter'quit': butter\n",
      "\n",
      "Enter the item you bought from market \n",
      "If you leave enter'quit': eggs\n",
      "\n",
      "Enter the item you bought from market \n",
      "If you leave enter'quit': rice\n",
      "\n",
      "Enter the item you bought from market \n",
      "If you leave enter'quit': quit\n",
      "\n",
      "--------- Shopping List --------\n",
      "You bought:  ['milk', 'butter', 'eggs', 'rice']\n"
     ]
    }
   ],
   "source": [
    "def customer_shopping(*shopping_list):\n",
    "    print(\"\\n--------- Shopping List --------\")    \n",
    "    for element in shopping_list:\n",
    "        print(\"You bought: \",element)\n",
    "\n",
    "shopping_list = []\n",
    "\n",
    "while True:\n",
    "    items = input(\"\\nEnter the item you bought from market \\nIf you leave enter'quit': \")\n",
    "    if items == 'quit':\n",
    "        break\n",
    "    shopping_list.append(items)\n",
    "\n",
    "customer_shopping(shopping_list)"
   ]
  },
  {
   "cell_type": "code",
   "execution_count": null,
   "metadata": {},
   "outputs": [],
   "source": []
  }
 ],
 "metadata": {
  "kernelspec": {
   "display_name": "Python 3",
   "language": "python",
   "name": "python3"
  },
  "language_info": {
   "codemirror_mode": {
    "name": "ipython",
    "version": 3
   },
   "file_extension": ".py",
   "mimetype": "text/x-python",
   "name": "python",
   "nbconvert_exporter": "python",
   "pygments_lexer": "ipython3",
   "version": "3.7.4"
  }
 },
 "nbformat": 4,
 "nbformat_minor": 2
}
