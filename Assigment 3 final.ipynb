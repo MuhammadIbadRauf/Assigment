{
 "cells": [
  {
   "cell_type": "code",
   "execution_count": 95,
   "metadata": {},
   "outputs": [
    {
     "name": "stdout",
     "output_type": "stream",
     "text": [
      "Input First Value= 4\n",
      "Input Second value= 5\n",
      "Enter Operation= **\n",
      "1024\n"
     ]
    }
   ],
   "source": [
    "val1=int(input(\"Input First Value= \"))\n",
    "val2=int(input(\"Input Second value= \"))\n",
    "operator=input(\"Enter Operation= \")\n",
    "if operator==\"+\":\n",
    "    val=val1+val2\n",
    "    print(val)\n",
    "elif operator==\"-\":\n",
    "    val=val1-val2\n",
    "    print(val)\n",
    "elif operator==\"*\":\n",
    "    val=val1*val2\n",
    "    print(val)\n",
    "elif operator==\"/\":\n",
    "    val=val1/val2\n",
    "    print(val)\n",
    "elif operator==\"**\":\n",
    "    val=val1**val2\n",
    "    print(val)\n",
    "    \n",
    "else: \n",
    "    print(\"Enter correct number or operation!\")\n"
   ]
  },
  {
   "cell_type": "code",
   "execution_count": 19,
   "metadata": {},
   "outputs": [
    {
     "name": "stdout",
     "output_type": "stream",
     "text": [
      "initial list [1, 2, 3, 4, 'a', 'b', 'x', 5, 'z']\n",
      "Total numeric values in a list are=  5\n"
     ]
    }
   ],
   "source": [
    "list = [1, 2, 3, 4, 'a', 'b', 'x', 5, 'z'] \n",
    "print (\"initial list\", str(list)) \n",
    "for item in list: \n",
    "    try: \n",
    "        res= int(item) \n",
    "    except ValueError: \n",
    "        pass \n",
    "print (\"Total numeric values in a list are= \", res) \n",
    "        "
   ]
  },
  {
   "cell_type": "code",
   "execution_count": 37,
   "metadata": {},
   "outputs": [
    {
     "name": "stdout",
     "output_type": "stream",
     "text": [
      "{'First Name': 'M.Ibad', 'Last Name': 'Rauf', 'Roll NO #': 35, 'Department': 'Electronics'}\n",
      "{'First Name': 'M.Ibad', 'Last Name': 'Rauf', 'Roll NO #': 35, 'Department': 'Electronics', 'Depatment': 'Computer Science'}\n"
     ]
    }
   ],
   "source": [
    "Student= {'First Name' : 'M.Ibad',\n",
    "          \"Last Name\" : \"Rauf\",\n",
    "          \"Roll NO #\":35,\n",
    "          \"Department\":\"Electronics\"\n",
    "         }\n",
    "print(Student)\n",
    "Student[\"Depatment\"]=\"Computer Science\"\n",
    "print(Student)\n"
   ]
  },
  {
   "cell_type": "code",
   "execution_count": 46,
   "metadata": {},
   "outputs": [
    {
     "name": "stdout",
     "output_type": "stream",
     "text": [
      "The sum of all values in dictionary=  135\n"
     ]
    }
   ],
   "source": [
    "num={'a':4,'b':6,'c':10,'d':60,'e':55}\n",
    "print(\"The sum of all values in dictionary= \",sum(num.values()))"
   ]
  },
  {
   "cell_type": "code",
   "execution_count": 68,
   "metadata": {},
   "outputs": [
    {
     "name": "stdout",
     "output_type": "stream",
     "text": [
      "Repeated numbers are:  {-20, 20, 30, 60}\n"
     ]
    }
   ],
   "source": [
    "list = [10, 20, 30, 20, 20, 30, 40, 50, -20, 60, 60, -20, -20]\n",
    "print(\"Repeated numbers are: \",set([i for i in list if(list.count(i)>1)]))"
   ]
  },
  {
   "cell_type": "code",
   "execution_count": 94,
   "metadata": {},
   "outputs": [
    {
     "name": "stdout",
     "output_type": "stream",
     "text": [
      "Input any number: 60\n",
      "Your value is not present in dictionary key=  1\n",
      "Your value is not present in dictionary key=  2\n",
      "Your value is not present in dictionary key=  3\n",
      "Your value is not present in dictionary key=  4\n",
      "Your value is not present in dictionary key=  5\n",
      "Your value is present in dictionary and  key =  6\n"
     ]
    }
   ],
   "source": [
    "list = {1: 10, 2: 20, 3: 30, 4: 40, 5: 50, 6: 60}\n",
    "num=int(input(\"Input any number: \"))\n",
    "i=0\n",
    "for check in list.values():\n",
    "    i=i+1\n",
    "    if num==check:\n",
    "        print('Your value is present in dictionary and  key = ',i)\n",
    "        break\n",
    "    else:\n",
    "        print('Your value is not present in dictionary key= ',i)"
   ]
  },
  {
   "cell_type": "code",
   "execution_count": null,
   "metadata": {},
   "outputs": [],
   "source": []
  },
  {
   "cell_type": "code",
   "execution_count": null,
   "metadata": {},
   "outputs": [],
   "source": []
  },
  {
   "cell_type": "code",
   "execution_count": null,
   "metadata": {},
   "outputs": [],
   "source": []
  },
  {
   "cell_type": "code",
   "execution_count": null,
   "metadata": {},
   "outputs": [],
   "source": []
  }
 ],
 "metadata": {
  "kernelspec": {
   "display_name": "Python 3",
   "language": "python",
   "name": "python3"
  },
  "language_info": {
   "codemirror_mode": {
    "name": "ipython",
    "version": 3
   },
   "file_extension": ".py",
   "mimetype": "text/x-python",
   "name": "python",
   "nbconvert_exporter": "python",
   "pygments_lexer": "ipython3",
   "version": "3.7.4"
  }
 },
 "nbformat": 4,
 "nbformat_minor": 2
}
